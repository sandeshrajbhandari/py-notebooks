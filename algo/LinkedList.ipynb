{
 "cells": [
  {
   "cell_type": "code",
   "execution_count": 52,
   "id": "45de4f16-86dc-4e6f-a51a-40d526ead9c8",
   "metadata": {},
   "outputs": [],
   "source": [
    "class ListNode: \n",
    "    def __init__(self,value):\n",
    "        self.value = value\n",
    "        self.next = None\n",
    "\n",
    "class LinkedList:\n",
    "    def __init__(self):\n",
    "        self.head = None\n",
    "\n",
    "    def append(self,value):\n",
    "        newNode = ListNode(value)\n",
    "\n",
    "        if (not(self.head)):\n",
    "            self.head = newNode\n",
    "            return\n",
    "\n",
    "        current = self.head\n",
    "        while(current.next):\n",
    "            current = current.next\n",
    "        current.next = newNode\n",
    "        # print(\"added\"+str(newNode.value))\n",
    "\n",
    "    def display(self):\n",
    "        print(\"tryin display\")\n",
    "        current = self.head\n",
    "        out = \"\"\n",
    "        while(current):\n",
    "            out += str(current.value)\n",
    "            print(\"adding\"+out)\n",
    "            out += \"->\"\n",
    "            print(\"switching to \"+str(current.value))\n",
    "            current = current.next\n",
    "        print(out)\n",
    "        "
   ]
  },
  {
   "cell_type": "code",
   "execution_count": 46,
   "id": "ab7df50a-50fd-4b00-ae3c-fd6b61c68285",
   "metadata": {},
   "outputs": [
    {
     "name": "stdout",
     "output_type": "stream",
     "text": [
      "test\n"
     ]
    }
   ],
   "source": [
    "print(\"test\")"
   ]
  },
  {
   "cell_type": "code",
   "execution_count": 55,
   "id": "8b3b8963-eb5d-4bed-8478-35b8e5055d80",
   "metadata": {},
   "outputs": [
    {
     "name": "stdout",
     "output_type": "stream",
     "text": [
      "added3\n",
      "tryin display\n",
      "adding2\n",
      "switching to 2\n",
      "adding2->3\n",
      "switching to 3\n",
      "2->3->\n"
     ]
    }
   ],
   "source": [
    "ll = LinkedList()\n",
    "ll\n",
    "ll.append(2)\n",
    "ll.append(3)\n",
    "ll.display()"
   ]
  },
  {
   "cell_type": "code",
   "execution_count": 37,
   "id": "b7f7b1cb-2556-4265-93f3-823a9f0e3342",
   "metadata": {},
   "outputs": [
    {
     "name": "stdout",
     "output_type": "stream",
     "text": [
      "added3\n"
     ]
    }
   ],
   "source": []
  },
  {
   "cell_type": "code",
   "execution_count": 53,
   "id": "bdb202cf-47db-4bb3-89de-eb08ed69d1d9",
   "metadata": {},
   "outputs": [
    {
     "name": "stdout",
     "output_type": "stream",
     "text": [
      "tryin display\n",
      "adding2\n",
      "switching to 3\n",
      "adding2->3\n"
     ]
    },
    {
     "ename": "AttributeError",
     "evalue": "'NoneType' object has no attribute 'value'",
     "output_type": "error",
     "traceback": [
      "\u001b[1;31m---------------------------------------------------------------------------\u001b[0m",
      "\u001b[1;31mAttributeError\u001b[0m                            Traceback (most recent call last)",
      "Cell \u001b[1;32mIn[53], line 1\u001b[0m\n\u001b[1;32m----> 1\u001b[0m \u001b[43mll\u001b[49m\u001b[38;5;241;43m.\u001b[39;49m\u001b[43mdisplay\u001b[49m\u001b[43m(\u001b[49m\u001b[43m)\u001b[49m\n",
      "Cell \u001b[1;32mIn[49], line 31\u001b[0m, in \u001b[0;36mLinkedList.display\u001b[1;34m(self)\u001b[0m\n\u001b[0;32m     29\u001b[0m     \u001b[38;5;28mprint\u001b[39m(\u001b[38;5;124m\"\u001b[39m\u001b[38;5;124madding\u001b[39m\u001b[38;5;124m\"\u001b[39m\u001b[38;5;241m+\u001b[39mout)\n\u001b[0;32m     30\u001b[0m     out \u001b[38;5;241m+\u001b[39m\u001b[38;5;241m=\u001b[39m \u001b[38;5;124m\"\u001b[39m\u001b[38;5;124m->\u001b[39m\u001b[38;5;124m\"\u001b[39m\n\u001b[1;32m---> 31\u001b[0m     \u001b[38;5;28mprint\u001b[39m(\u001b[38;5;124m\"\u001b[39m\u001b[38;5;124mswitching to \u001b[39m\u001b[38;5;124m\"\u001b[39m\u001b[38;5;241m+\u001b[39m\u001b[38;5;28mstr\u001b[39m(\u001b[43mcurrent\u001b[49m\u001b[38;5;241;43m.\u001b[39;49m\u001b[43mnext\u001b[49m\u001b[38;5;241;43m.\u001b[39;49m\u001b[43mvalue\u001b[49m))\n\u001b[0;32m     32\u001b[0m     current \u001b[38;5;241m=\u001b[39m current\u001b[38;5;241m.\u001b[39mnext\n\u001b[0;32m     33\u001b[0m \u001b[38;5;28mprint\u001b[39m(out)\n",
      "\u001b[1;31mAttributeError\u001b[0m: 'NoneType' object has no attribute 'value'"
     ]
    }
   ],
   "source": []
  }
 ],
 "metadata": {
  "kernelspec": {
   "display_name": "Python 3 (ipykernel)",
   "language": "python",
   "name": "python3"
  },
  "language_info": {
   "codemirror_mode": {
    "name": "ipython",
    "version": 3
   },
   "file_extension": ".py",
   "mimetype": "text/x-python",
   "name": "python",
   "nbconvert_exporter": "python",
   "pygments_lexer": "ipython3",
   "version": "3.11.0"
  }
 },
 "nbformat": 4,
 "nbformat_minor": 5
}
