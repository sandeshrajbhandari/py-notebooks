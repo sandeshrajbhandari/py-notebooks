{
 "cells": [
  {
   "cell_type": "code",
   "execution_count": 56,
   "id": "45de4f16-86dc-4e6f-a51a-40d526ead9c8",
   "metadata": {},
   "outputs": [],
   "source": [
    "class ListNode: \n",
    "    def __init__(self,value):\n",
    "        self.value = value\n",
    "        self.next = None\n",
    "\n",
    "class LinkedList:\n",
    "    def __init__(self):\n",
    "        self.head = None\n",
    "\n",
    "    def append(self,value):\n",
    "        newNode = ListNode(value)\n",
    "\n",
    "        if (not(self.head)):\n",
    "            self.head = newNode\n",
    "            return\n",
    "\n",
    "        current = self.head\n",
    "        while(current.next):\n",
    "            current = current.next\n",
    "        current.next = newNode\n",
    "        # print(\"added\"+str(newNode.value))\n",
    "\n",
    "    def display(self):\n",
    "        print(\"tryin display\")\n",
    "        current = self.head\n",
    "        out = \"\"\n",
    "        while(current):\n",
    "            out += str(current.value)\n",
    "            print(\"adding\"+out)\n",
    "            out += \"->\"\n",
    "            print(\"switching to \"+str(current.value))\n",
    "            current = current.next\n",
    "        out +=\"null\"\n",
    "        print(out)\n",
    "        "
   ]
  },
  {
   "cell_type": "code",
   "execution_count": 46,
   "id": "ab7df50a-50fd-4b00-ae3c-fd6b61c68285",
   "metadata": {},
   "outputs": [
    {
     "name": "stdout",
     "output_type": "stream",
     "text": [
      "test\n"
     ]
    }
   ],
   "source": [
    "print(\"test\")"
   ]
  },
  {
   "cell_type": "code",
   "execution_count": 57,
   "id": "8b3b8963-eb5d-4bed-8478-35b8e5055d80",
   "metadata": {},
   "outputs": [
    {
     "name": "stdout",
     "output_type": "stream",
     "text": [
      "tryin display\n",
      "adding2\n",
      "switching to 2\n",
      "adding2->3\n",
      "switching to 3\n",
      "2->3->null\n"
     ]
    }
   ],
   "source": [
    "ll = LinkedList()\n",
    "ll\n",
    "ll.append(2)\n",
    "ll.append(3)\n",
    "ll.display()"
   ]
  }
 ],
 "metadata": {
  "kernelspec": {
   "display_name": "Python 3 (ipykernel)",
   "language": "python",
   "name": "python3"
  },
  "language_info": {
   "codemirror_mode": {
    "name": "ipython",
    "version": 3
   },
   "file_extension": ".py",
   "mimetype": "text/x-python",
   "name": "python",
   "nbconvert_exporter": "python",
   "pygments_lexer": "ipython3",
   "version": "3.11.0"
  }
 },
 "nbformat": 4,
 "nbformat_minor": 5
}
